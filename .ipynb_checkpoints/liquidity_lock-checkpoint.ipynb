{
 "cells": [
  {
   "cell_type": "code",
   "execution_count": 522,
   "id": "535a43fa-c5a7-420c-9dc3-5a034df28a9c",
   "metadata": {},
   "outputs": [],
   "source": [
    "# pip install pandas\n",
    "# pip install openpyxl"
   ]
  },
  {
   "cell_type": "code",
   "execution_count": 523,
   "id": "31e447e4-60aa-4830-ac0e-4ecf95e3ff4f",
   "metadata": {},
   "outputs": [
    {
     "data": {
      "text/plain": [
       "'\\nAssumptions\\n1. one who orders first will get execued first in case of insufficier=t buyers/sellers\\n2. trimming numbers to 2 decimal places\\n\\n'"
      ]
     },
     "execution_count": 523,
     "metadata": {},
     "output_type": "execute_result"
    }
   ],
   "source": [
    "'''\n",
    "Assumptions\n",
    "1. one who orders first will get execued first in case of insufficier=t buyers/sellers\n",
    "2. trimming numbers to 2 decimal places\n",
    "\n",
    "'''"
   ]
  },
  {
   "cell_type": "code",
   "execution_count": 1,
   "id": "4ce9bc88-0639-4d49-9d00-1777f7590724",
   "metadata": {},
   "outputs": [
    {
     "data": {
      "text/plain": [
       "[['A', 'Apple', 'Sell', 16, 96],\n",
       " ['A', 'Banana', 'Buy', 1, 104],\n",
       " ['A', 'Cherry', 'Sell', 15, 99],\n",
       " ['A', 'Orange', 'Buy', 19, 102],\n",
       " ['B', 'Apple', 'Sell', 11, 102],\n",
       " ['B', 'Banana', 'Buy', 2, 101],\n",
       " ['B', 'Cherry', 'Buy', 9, 99],\n",
       " ['B', 'Orange', 'Buy', 10, 105],\n",
       " ['C', 'Apple', 'Buy', 20, 101],\n",
       " ['C', 'Banana', 'Sell', 11, 104],\n",
       " ['C', 'Cherry', 'Sell', 4, 99],\n",
       " ['C', 'Orange', 'Buy', 3, 100],\n",
       " ['D', 'Apple', 'Buy', 19, 96],\n",
       " ['D', 'Banana', 'Sell', 9, 100],\n",
       " ['D', 'Cherry', 'Buy', 1, 97],\n",
       " ['D', 'Orange', 'Sell', 12, 99],\n",
       " ['E', 'Apple', 'Buy', 13, 105],\n",
       " ['E', 'Banana', 'Buy', 9, 101],\n",
       " ['E', 'Cherry', 'Sell', 11, 105],\n",
       " ['E', 'Orange', 'Buy', 7, 96]]"
      ]
     },
     "execution_count": 1,
     "metadata": {},
     "output_type": "execute_result"
    }
   ],
   "source": [
    "import pandas as pd\n",
    "import numpy\n",
    "import csv\n",
    "df = pd.read_excel(r'ProblemSetData.xlsx')\n",
    "# print(df)\n",
    "col_list=df.values.T.tolist()\n",
    "# col_list\n",
    "row_list=df.values.tolist()\n",
    "row_list"
   ]
  },
  {
   "cell_type": "code",
   "execution_count": 2,
   "id": "e2865332-85f5-4a10-9353-71aee3db0684",
   "metadata": {},
   "outputs": [],
   "source": [
    "# row_list"
   ]
  },
  {
   "cell_type": "code",
   "execution_count": 3,
   "id": "cb06c144-c254-49a4-ba1d-038ec5c4639b",
   "metadata": {},
   "outputs": [
    {
     "data": {
      "text/plain": [
       "['Orange', 'Cherry', 'Banana', 'Apple']"
      ]
     },
     "execution_count": 3,
     "metadata": {},
     "output_type": "execute_result"
    }
   ],
   "source": [
    "list_of_unique_product= list(set(col_list[1]))\n",
    "list_of_unique_product"
   ]
  },
  {
   "cell_type": "code",
   "execution_count": 4,
   "id": "c9f89a9a-c248-492a-8436-99d0d78d8df3",
   "metadata": {},
   "outputs": [],
   "source": [
    "def get_product_wise_data(row_list, list_of_unique_product):\n",
    "    product_wise_data = {}\n",
    "    for p in list_of_unique_product:\n",
    "        product_wise_data[p] = list()\n",
    "    for id, row in enumerate(row_list):\n",
    "        product_wise_data[row[1]].append(row)\n",
    "    return product_wise_data"
   ]
  },
  {
   "cell_type": "code",
   "execution_count": null,
   "id": "bf14c1a6-f91d-4d8f-982f-68e38d56983d",
   "metadata": {},
   "outputs": [],
   "source": []
  },
  {
   "cell_type": "code",
   "execution_count": 5,
   "id": "bb944b97-0e83-44c8-b67d-d91cdc4deaf5",
   "metadata": {},
   "outputs": [],
   "source": [
    "def get_trade_quantity(values):\n",
    "    buy_sell_quantity=[[x[2],x[3]] for x in values] #parsing list of [\"Direction\",\"Quantity\"]\n",
    "    buy,sell=0,0\n",
    "    for i in buy_sell_quantity:\n",
    "        if i[0]==\"Buy\":\n",
    "            buy+=i[1]\n",
    "        else:\n",
    "            sell+=i[1]\n",
    "    return min(buy,sell)\n",
    "\n",
    "def get_trade_price(values):\n",
    "    quantity_price=[[x[3],x[4]] for x in values] # quantity_price is a 2d list with [quantity,price] as sublist\n",
    "    total_quantity_price_sum=sum([x*y for x, y in quantity_price])#parsing list of [\"Quantity\",\"Price\"]\n",
    "    total_quantity_sum = sum(map(lambda x: x[1], quantity_price))\n",
    "    return round(total_quantity_price_sum/total_quantity_sum,2) #assuming total_quantity_sum!=0\n",
    "\n",
    "\n",
    "#these queue for a single product\n",
    "def generate_buy_sell_queue(all_trades_for_product):\n",
    "    buy_queue,sell_queue=[],[]\n",
    "    for trade in all_trades_for_product:\n",
    "        if trade[2]==\"Buy\":\n",
    "            buy_queue.append(trade)\n",
    "        else:\n",
    "            sell_queue.append(trade)\n",
    "    return buy_queue,sell_queue"
   ]
  },
  {
   "cell_type": "code",
   "execution_count": 6,
   "id": "ecad1859-bcc6-4f8a-b047-b729d0afe713",
   "metadata": {},
   "outputs": [],
   "source": [
    "def list_of_trade_bw_parties(product, buy_queue, sell_queue, trade_quantity, trade_price, w, transaction_log):\n",
    "    while trade_quantity > 0:\n",
    "        current_buyer, current_seller = buy_queue[0], sell_queue[0]\n",
    "        transaction_quant = min(current_buyer[3], current_seller[3])\n",
    "\n",
    "        current_trade = {\n",
    "            \"quantity\": transaction_quant,\n",
    "            \"rate\": trade_price,\n",
    "            \"seller\": current_seller[0],\n",
    "            \"buyer\": current_buyer[0],\n",
    "            \"sellers_profit\": current_seller[4] * transaction_quant,\n",
    "            \"buyers_profit\": current_buyer[4] * transaction_quant,\n",
    "        }\n",
    "        transaction_log.append(current_trade)\n",
    "        # print(current_buyer,current_seller)\n",
    "        # once we log the transaction, lets update the buy and the sell queue\n",
    "        if current_buyer[3] == current_seller[3]:\n",
    "            sell_queue.pop(0)\n",
    "            buy_queue.pop(0)\n",
    "        elif current_buyer[3] > current_seller[3]:\n",
    "            sell_queue.pop(0)\n",
    "            current_buyer[3] -= transaction_quant\n",
    "        elif current_seller[3] > current_buyer[3]:\n",
    "            buy_queue.pop(0)\n",
    "            current_seller[3] -= transaction_quant\n",
    "        print(current_trade)\n",
    "        w.writerow(\n",
    "            [\n",
    "                current_trade[\"seller\"],\n",
    "                current_trade[\"buyer\"],\n",
    "                product,\n",
    "                current_trade[\"quantity\"],\n",
    "                current_trade[\"rate\"],\n",
    "                current_trade[\"sellers_profit\"],\n",
    "                current_trade[\"buyers_profit\"],\n",
    "            ]\n",
    "        )\n",
    "        trade_quantity = trade_quantity - transaction_quant\n",
    "    return transaction_log"
   ]
  },
  {
   "cell_type": "code",
   "execution_count": null,
   "id": "ba9abdf6-a890-484e-9ddd-765c39a33e3e",
   "metadata": {},
   "outputs": [],
   "source": []
  },
  {
   "cell_type": "code",
   "execution_count": 8,
   "id": "99f2f38a-726e-4c56-8ee5-c570eba83df1",
   "metadata": {},
   "outputs": [
    {
     "name": "stdout",
     "output_type": "stream",
     "text": [
      "Orange\n",
      "total buy/sell quantity 12\n",
      "final trade rate 10.25\n",
      "{'quantity': 12, 'rate': 10.25, 'seller': 'D', 'buyer': 'A', 'sellers_profit': 1188, 'buyers_profit': 1224}\n",
      "---------all trades for product Orange executed--------------------\n",
      "Cherry\n",
      "total buy/sell quantity 10\n",
      "final trade rate 8.06\n",
      "{'quantity': 9, 'rate': 8.06, 'seller': 'A', 'buyer': 'B', 'sellers_profit': 891, 'buyers_profit': 891}\n",
      "{'quantity': 1, 'rate': 8.06, 'seller': 'A', 'buyer': 'D', 'sellers_profit': 99, 'buyers_profit': 97}\n",
      "---------all trades for product Cherry executed--------------------\n",
      "Banana\n",
      "total buy/sell quantity 12\n",
      "final trade rate 6.39\n",
      "{'quantity': 1, 'rate': 6.39, 'seller': 'C', 'buyer': 'A', 'sellers_profit': 104, 'buyers_profit': 104}\n",
      "{'quantity': 2, 'rate': 6.39, 'seller': 'C', 'buyer': 'B', 'sellers_profit': 208, 'buyers_profit': 202}\n",
      "{'quantity': 8, 'rate': 6.39, 'seller': 'C', 'buyer': 'E', 'sellers_profit': 832, 'buyers_profit': 808}\n",
      "{'quantity': 1, 'rate': 6.39, 'seller': 'D', 'buyer': 'E', 'sellers_profit': 100, 'buyers_profit': 101}\n",
      "---------all trades for product Banana executed--------------------\n",
      "Apple\n",
      "total buy/sell quantity 27\n",
      "final trade rate 15.73\n",
      "{'quantity': 16, 'rate': 15.73, 'seller': 'A', 'buyer': 'C', 'sellers_profit': 1536, 'buyers_profit': 1616}\n",
      "{'quantity': 4, 'rate': 15.73, 'seller': 'B', 'buyer': 'C', 'sellers_profit': 408, 'buyers_profit': 404}\n",
      "{'quantity': 7, 'rate': 15.73, 'seller': 'B', 'buyer': 'D', 'sellers_profit': 714, 'buyers_profit': 672}\n",
      "---------all trades for product Apple executed--------------------\n",
      "all transactions completed and logged into mid_results.csv\n"
     ]
    }
   ],
   "source": [
    "with open(\"mid_results.csv\", \"w\") as f:\n",
    "    transaction_log = []\n",
    "    w = csv.writer(f)\n",
    "    w.writerow(\n",
    "        [\n",
    "            \"seller\",\n",
    "            \"buyer\",\n",
    "            \"product\",\n",
    "            \"quantity\",\n",
    "            \"rate\",\n",
    "            \"sellers_profit\",\n",
    "            \"buyers_profit\",\n",
    "        ]\n",
    "    )\n",
    "    product_wise_data = get_product_wise_data(row_list, list_of_unique_product)\n",
    "    for p, v in product_wise_data.items():\n",
    "        print(p)\n",
    "\n",
    "        trade_quantity = get_trade_quantity(v)\n",
    "        print(\"total buy/sell quantity\", trade_quantity)\n",
    "\n",
    "        trade_price = get_trade_price(v)\n",
    "        print(\"final trade rate\", trade_price)\n",
    "\n",
    "        # generate buy and sell queue here\n",
    "        buy_queue, sell_queue = generate_buy_sell_queue(v)\n",
    "\n",
    "        transaction_log = list_of_trade_bw_parties(\n",
    "            p, buy_queue, sell_queue, trade_quantity, trade_price, w, transaction_log\n",
    "        )\n",
    "        print(\"---------all trades for product {} executed--------------------\".format(p))\n",
    "    print(\"all transactions completed and logged into mid_results.csv\")"
   ]
  },
  {
   "cell_type": "code",
   "execution_count": null,
   "id": "2aa604ea-3842-4c47-8ae3-b9a8733db735",
   "metadata": {},
   "outputs": [],
   "source": []
  },
  {
   "cell_type": "code",
   "execution_count": null,
   "id": "42b9bf16-469f-476d-8328-8fb07b815d7b",
   "metadata": {},
   "outputs": [],
   "source": []
  }
 ],
 "metadata": {
  "kernelspec": {
   "display_name": "Python 3 (ipykernel)",
   "language": "python",
   "name": "python3"
  },
  "language_info": {
   "codemirror_mode": {
    "name": "ipython",
    "version": 3
   },
   "file_extension": ".py",
   "mimetype": "text/x-python",
   "name": "python",
   "nbconvert_exporter": "python",
   "pygments_lexer": "ipython3",
   "version": "3.9.16"
  }
 },
 "nbformat": 4,
 "nbformat_minor": 5
}
